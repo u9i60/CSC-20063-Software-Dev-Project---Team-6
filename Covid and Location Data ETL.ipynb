{
 "cells": [
  {
   "cell_type": "markdown",
   "id": "88055480",
   "metadata": {},
   "source": [
    "# Import libraries"
   ]
  },
  {
   "cell_type": "code",
   "execution_count": 2,
   "id": "a62543c2",
   "metadata": {},
   "outputs": [],
   "source": [
    "import requests\n",
    "from requests import get\n",
    "import json\n",
    "import pandas as pd\n",
    "from time import sleep\n",
    "import datetime\n",
    "import os\n",
    "import sqlite3\n",
    "from datetime import date, timedelta"
   ]
  },
  {
   "cell_type": "markdown",
   "id": "a3c7c054",
   "metadata": {},
   "source": [
    "# Connect to database and create cursor"
   ]
  },
  {
   "cell_type": "code",
   "execution_count": 3,
   "id": "97964b29",
   "metadata": {},
   "outputs": [],
   "source": [
    "# Create a database connection\n",
    "conn = sqlite3.connect('Covid19.db') \n",
    " \n",
    "# Create a cursor \n",
    "c = conn.cursor() "
   ]
  },
  {
   "cell_type": "markdown",
   "id": "6d49d482",
   "metadata": {},
   "source": [
    "# Define a function to drop tables and clean database"
   ]
  },
  {
   "cell_type": "code",
   "execution_count": 3,
   "id": "f80cb163",
   "metadata": {},
   "outputs": [],
   "source": [
    "def dropTables():\n",
    "    # Get a list of all tables in the database\n",
    "    tables = conn.execute(\"SELECT name FROM sqlite_master WHERE type='table'\").fetchall()\n",
    "    # Drop each table in the database\n",
    "    for table in tables:\n",
    "        conn.execute(f\"DROP TABLE IF EXISTS {table[0]}\")\n",
    "    # Free up unused space on the db\n",
    "    c.execute('VACUUM')\n",
    "    conn.commit()"
   ]
  },
  {
   "cell_type": "markdown",
   "id": "adbb7807",
   "metadata": {},
   "source": [
    "# Define a function to drop the database"
   ]
  },
  {
   "cell_type": "code",
   "execution_count": 4,
   "id": "10eeec52",
   "metadata": {},
   "outputs": [],
   "source": [
    "# Delete the file that contains the database\n",
    "def dropDB():\n",
    "    if conn is not None:\n",
    "        conn.close()\n",
    "    os.remove('Covid19.db')"
   ]
  },
  {
   "cell_type": "markdown",
   "id": "73cb3aae",
   "metadata": {},
   "source": [
    "# Define a  function to run sql"
   ]
  },
  {
   "cell_type": "code",
   "execution_count": 3,
   "id": "9227ea85",
   "metadata": {},
   "outputs": [],
   "source": [
    "def runSQL(sql):\n",
    "    c.execute(sql)\n",
    "    conn.commit()"
   ]
  },
  {
   "cell_type": "markdown",
   "id": "e6d640b8",
   "metadata": {},
   "source": [
    "# Define a function to add information to an error log"
   ]
  },
  {
   "cell_type": "code",
   "execution_count": 6,
   "id": "e1d6d9e4",
   "metadata": {},
   "outputs": [],
   "source": [
    "def addToErrorLog(text):\n",
    "    fileName = 'errorLog.txt'\n",
    "    if os.path.exists(fileName):\n",
    "        with open(fileName, 'a') as f:\n",
    "            f.write(text + '\\n')\n",
    "            f.close()\n",
    "    else:\n",
    "        with open(fileName, 'w') as f:\n",
    "            f.write(text + '\\n') \n",
    "            f.close()"
   ]
  },
  {
   "cell_type": "markdown",
   "id": "665cbba5",
   "metadata": {},
   "source": [
    "# Define a function to get data from an API"
   ]
  },
  {
   "cell_type": "code",
   "execution_count": 10,
   "id": "9202046c",
   "metadata": {},
   "outputs": [],
   "source": [
    "def get_data(url,areaType=None,metricCode=None):\n",
    "    \n",
    "    currentDate = datetime.datetime.now().strftime(\"%Y-%m-%d %H:%M:%S\")\n",
    "    \n",
    "    try:\n",
    "        response = get(endpoint, timeout=10)\n",
    "        if response.status_code == 429:\n",
    "            sleep(5)\n",
    "            response = get(endpoint, timeout=10)\n",
    "        elif response.status_code >= 400:\n",
    "            raise RuntimeError()\n",
    "        return response.json()\n",
    "        sleep(1) # after a response has been returned, wait a second to ensure we're not sending too many requests too frequently\n",
    "    except RuntimeError as rErr:\n",
    "        addToErrorLog('| ' + currentDate + ': RuntimeError | AreaType: ' + areaType + ' | metricCode: ' + metricCode  + ' | Repsonse: ' + response.text + ' | ')\n",
    "    except ValueError as vErr:\n",
    "        addToErrorLog('| ' + currentDate + ': ValueError | AreaType: ' + areaType + ' | metricCode: ' + metricCode  + ' | Repsonse: ' + vErr.args[0] + ' | ')\n",
    "    except requests.exceptions.Timeout:\n",
    "        addToErrorLog('| ' + currentDate + ': ReadTimeoutError | AreaType: ' + areaType + ' | metricCode: ' + metricCode  + ' | Repsonse: | ')\n",
    "        pass"
   ]
  },
  {
   "cell_type": "markdown",
   "id": "106e94a7",
   "metadata": {},
   "source": [
    "# Fetch any announcements"
   ]
  },
  {
   "cell_type": "code",
   "execution_count": 8,
   "id": "3db2299c",
   "metadata": {},
   "outputs": [
    {
     "data": {
      "text/plain": [
       "88"
      ]
     },
     "execution_count": 8,
     "metadata": {},
     "output_type": "execute_result"
    }
   ],
   "source": [
    "# Get any announcements\n",
    "\n",
    "endpoint = 'https://api.coronavirus.data.gov.uk/generic/announcements'\n",
    "data = get_data(endpoint)\n",
    "df = pd.DataFrame(data)\n",
    "df.to_sql('Announcements', conn, if_exists='replace', index=False)"
   ]
  },
  {
   "cell_type": "markdown",
   "id": "a1e433ee",
   "metadata": {},
   "source": [
    "## Amend to set the id field to the primary key"
   ]
  },
  {
   "cell_type": "code",
   "execution_count": 8,
   "id": "e17f58bc",
   "metadata": {},
   "outputs": [],
   "source": [
    "# Create a new table with the desired schema\n",
    "c.execute('''CREATE TABLE new_Announcements (\n",
    "                    body TEXT,\n",
    "                    date TEXT,\n",
    "                    expire TEXT,\n",
    "                    has_expired INTEGER,\n",
    "                    id TEXT PRIMARY KEY,\n",
    "                    launch TEXT\n",
    "                )''')\n",
    "\n",
    "# Step 2: Copy data from the old table to the new table\n",
    "c.execute('''INSERT INTO new_Announcements (body, date, expire, has_expired, id, launch)\n",
    "                    SELECT body, date, expire, has_expired, id, launch\n",
    "                    FROM Announcements''')\n",
    "\n",
    "# Step 3: Drop the old table\n",
    "c.execute('DROP TABLE Announcements')\n",
    "\n",
    "# Step 4: Rename the new table to the original table name\n",
    "c.execute('ALTER TABLE new_Announcements RENAME TO Announcements')\n",
    "\n",
    "# Commit the changes and close the connection\n",
    "conn.commit()"
   ]
  },
  {
   "cell_type": "markdown",
   "id": "d2f33596",
   "metadata": {},
   "source": [
    "# Areas to get details for"
   ]
  },
  {
   "cell_type": "code",
   "execution_count": 8,
   "id": "47b63a6b",
   "metadata": {},
   "outputs": [],
   "source": [
    "areas = ['nation','region','nhsRegion','nhsTrust','msoa','utla','ltla']"
   ]
  },
  {
   "cell_type": "markdown",
   "id": "88716b9d",
   "metadata": {},
   "source": [
    "## Get area details and populate sql table"
   ]
  },
  {
   "cell_type": "code",
   "execution_count": 11,
   "id": "f17b3e2a",
   "metadata": {},
   "outputs": [
    {
     "data": {
      "text/plain": [
       "7623"
      ]
     },
     "execution_count": 11,
     "metadata": {},
     "output_type": "execute_result"
    }
   ],
   "source": [
    "# Get area details\n",
    "\n",
    "areaDetails_df = pd.DataFrame()\n",
    "\n",
    "for i in areas:\n",
    "    endpoint = 'https://api.coronavirus.data.gov.uk/generic/area/' + i\n",
    "    areaData = get_data(endpoint)\n",
    "    area_df = pd.DataFrame(areaData)\n",
    "    area_df = area_df.assign(areaType=i)\n",
    "    areaDetails_df = pd.concat([areaDetails_df,area_df],ignore_index=True)\n",
    "    \n",
    "# Add a primary key column named \"id\"\n",
    "areaDetails_df['id'] = range(1, len(areaDetails_df) + 1)\n",
    "\n",
    "areaDetails_df.to_sql('Areas',conn,if_exists='replace',index=False)"
   ]
  },
  {
   "cell_type": "markdown",
   "id": "acddce17",
   "metadata": {},
   "source": [
    "# Metric categories to get details for"
   ]
  },
  {
   "cell_type": "code",
   "execution_count": 17,
   "id": "92660577",
   "metadata": {},
   "outputs": [],
   "source": [
    "categories = ['Cases','Testing','Healthcare','Deaths','Vaccinations']"
   ]
  },
  {
   "cell_type": "markdown",
   "id": "13778bd3",
   "metadata": {},
   "source": [
    "## Get metric category details"
   ]
  },
  {
   "cell_type": "code",
   "execution_count": 18,
   "id": "45369416",
   "metadata": {},
   "outputs": [
    {
     "data": {
      "text/plain": [
       "221"
      ]
     },
     "execution_count": 18,
     "metadata": {},
     "output_type": "execute_result"
    }
   ],
   "source": [
    "# Get metric details by category\n",
    "\n",
    "metricDetails_df = pd.DataFrame()\n",
    "\n",
    "for i in categories:\n",
    "    endpoint = 'https://api.coronavirus.data.gov.uk/generic/metrics?category=' + i\n",
    "    catData = get_data(endpoint)\n",
    "    cat_df = pd.DataFrame(catData)\n",
    "    cat_df = cat_df.assign(category=i)\n",
    "    metricDetails_df = pd.concat([metricDetails_df,cat_df],ignore_index=True)\n",
    "    \n",
    "# Add a primary key column named \"id\"\n",
    "metricDetails_df['id'] = range(1, len(metricDetails_df) + 1)    \n",
    "\n",
    "# Convert the lists to strings\n",
    "metricDetails_df['tags'] = metricDetails_df['tags'].apply(lambda x: ','.join(x))\n",
    "metricDetails_df.to_sql('MetricDetails',conn,if_exists='replace',index=False)"
   ]
  },
  {
   "cell_type": "markdown",
   "id": "2c9c2668",
   "metadata": {},
   "source": [
    "# Fetch the metric details per area and metric detail"
   ]
  },
  {
   "cell_type": "code",
   "execution_count": 13,
   "id": "f3b03be3",
   "metadata": {},
   "outputs": [],
   "source": [
    "areas = ['nation']"
   ]
  },
  {
   "cell_type": "code",
   "execution_count": 14,
   "id": "bf3d0f70",
   "metadata": {
    "scrolled": true
   },
   "outputs": [],
   "source": [
    "# loop through the areaTypes and metrics and append to a dataframe and output\n",
    "\n",
    "metricData_df = pd.DataFrame() \n",
    "\n",
    "for i in areas:\n",
    "    \n",
    "    for index,row in metricDetails_df.iterrows():\n",
    "\n",
    "        metricCode = row['metric']\n",
    "\n",
    "        areaType = i\n",
    "\n",
    "        endpoint = (\n",
    "                'https://api.coronavirus.data.gov.uk/v1/data?'\n",
    "                'filters=areaType=' + areaType + '&'\n",
    "                'structure={\"date\":\"date\",\"areaCode\":\"areaCode\",\"metricValue\":\"' +  metricCode + '\"}'\n",
    "            )\n",
    "\n",
    "\n",
    "        data = get_data(endpoint,areaType=areaType,metricCode=metricCode)\n",
    "\n",
    "        if data is None:\n",
    "            continue\n",
    "        else:\n",
    "            df = pd.DataFrame(data[\"data\"])\n",
    "            # check if any data in the dataframe is a dictionary (need to handle these appropriately)\n",
    "            for col in df.columns:\n",
    "                if any(isinstance(x, dict) for x in df[col]):\n",
    "                    addToErrorLog('| DictError: ' + currentDate + ' | AreaType: ' + areaType + ' | metricCode: ' + metricCode  + ' | Repsonse: ' + response.text + ' | ')\n",
    "                    continue\n",
    "            df = df.astype(str)\n",
    "            df = df.assign(metricCode=metricCode)\n",
    "            df = df.assign(areaType=areaType)\n",
    "            df.to_sql('Metrics',conn,if_exists='append',index=False)"
   ]
  },
  {
   "cell_type": "markdown",
   "id": "4d5cff20",
   "metadata": {},
   "source": [
    "# Create a date table"
   ]
  },
  {
   "cell_type": "code",
   "execution_count": 35,
   "id": "565aabe6",
   "metadata": {},
   "outputs": [],
   "source": [
    "# Create date table\n",
    "c.execute('''CREATE TABLE Dates\n",
    "             (id INTEGER PRIMARY KEY,\n",
    "              date TEXT,\n",
    "              weekEnding TEXT,\n",
    "              monthEnding TEXT,\n",
    "              monthName TEXT,\n",
    "              dayName TEXT,\n",
    "              year INTEGER,\n",
    "              month INTEGER)''')\n",
    "\n",
    "# Insert dates into table\n",
    "start_date = date(2020, 1, 1)\n",
    "end_date = date(2025, 12, 31)\n",
    "delta = timedelta(days=1)\n",
    "\n",
    "while start_date <= end_date:\n",
    "    end_of_week = (start_date + timedelta(days=(6 - start_date.weekday()))).strftime(\"%Y-%m-%d\")\n",
    "    end_of_month = (date(start_date.year, start_date.month, 1) + timedelta(days=32)).replace(day=1) - timedelta(days=1)\n",
    "    month_name = start_date.strftime(\"%B\")\n",
    "    day_name = start_date.strftime(\"%A\")\n",
    "    c.execute('''INSERT INTO Dates (date\n",
    "              , weekEnding\n",
    "              , monthEnding\n",
    "              , monthName\n",
    "              , dayName\n",
    "              , year\n",
    "              , month) \n",
    "              VALUES (?, ?, ?, ?, ?, ?, ?)'''\n",
    "              , (start_date.strftime(\"%Y-%m-%d\")\n",
    "                 , end_of_week\n",
    "                 , end_of_month.strftime(\"%Y-%m-%d\")\n",
    "                 , month_name\n",
    "                 , day_name\n",
    "                , start_date.year\n",
    "                , start_date.month)\n",
    "             )\n",
    "    start_date += delta\n",
    "\n",
    "# Commit changes and close connection\n",
    "conn.commit()"
   ]
  },
  {
   "cell_type": "code",
   "execution_count": 37,
   "id": "3e886812",
   "metadata": {},
   "outputs": [
    {
     "data": {
      "text/plain": [
       "[(1,\n",
       "  '2020-01-01',\n",
       "  '2020-01-05',\n",
       "  '2020-01-31',\n",
       "  'January',\n",
       "  'Wednesday',\n",
       "  2020,\n",
       "  1),\n",
       " (2, '2020-01-02', '2020-01-05', '2020-01-31', 'January', 'Thursday', 2020, 1),\n",
       " (3, '2020-01-03', '2020-01-05', '2020-01-31', 'January', 'Friday', 2020, 1),\n",
       " (4, '2020-01-04', '2020-01-05', '2020-01-31', 'January', 'Saturday', 2020, 1),\n",
       " (5, '2020-01-05', '2020-01-05', '2020-01-31', 'January', 'Sunday', 2020, 1),\n",
       " (6, '2020-01-06', '2020-01-12', '2020-01-31', 'January', 'Monday', 2020, 1),\n",
       " (7, '2020-01-07', '2020-01-12', '2020-01-31', 'January', 'Tuesday', 2020, 1),\n",
       " (8,\n",
       "  '2020-01-08',\n",
       "  '2020-01-12',\n",
       "  '2020-01-31',\n",
       "  'January',\n",
       "  'Wednesday',\n",
       "  2020,\n",
       "  1),\n",
       " (9, '2020-01-09', '2020-01-12', '2020-01-31', 'January', 'Thursday', 2020, 1),\n",
       " (10, '2020-01-10', '2020-01-12', '2020-01-31', 'January', 'Friday', 2020, 1)]"
      ]
     },
     "execution_count": 37,
     "metadata": {},
     "output_type": "execute_result"
    }
   ],
   "source": [
    "sql = 'select * from Dates limit 10'\n",
    "c.execute(sql)\n",
    "conn.commit()\n",
    "c.fetchall()"
   ]
  },
  {
   "cell_type": "code",
   "execution_count": 15,
   "id": "0f786b3e",
   "metadata": {
    "scrolled": true
   },
   "outputs": [
    {
     "data": {
      "text/plain": [
       "[('2023-04-26',\n",
       "  'E92000001',\n",
       "  'nation',\n",
       "  'changeInNewCasesBySpecimenDate',\n",
       "  '942'),\n",
       " ('2023-04-25',\n",
       "  'E92000001',\n",
       "  'nation',\n",
       "  'changeInNewCasesBySpecimenDate',\n",
       "  '1426'),\n",
       " ('2023-04-24',\n",
       "  'E92000001',\n",
       "  'nation',\n",
       "  'changeInNewCasesBySpecimenDate',\n",
       "  '1630'),\n",
       " ('2023-04-23',\n",
       "  'E92000001',\n",
       "  'nation',\n",
       "  'changeInNewCasesBySpecimenDate',\n",
       "  '1391'),\n",
       " ('2023-04-22',\n",
       "  'E92000001',\n",
       "  'nation',\n",
       "  'changeInNewCasesBySpecimenDate',\n",
       "  '1162'),\n",
       " ('2023-04-21',\n",
       "  'E92000001',\n",
       "  'nation',\n",
       "  'changeInNewCasesBySpecimenDate',\n",
       "  '1291'),\n",
       " ('2023-04-20',\n",
       "  'E92000001',\n",
       "  'nation',\n",
       "  'changeInNewCasesBySpecimenDate',\n",
       "  '1448'),\n",
       " ('2023-04-19',\n",
       "  'E92000001',\n",
       "  'nation',\n",
       "  'changeInNewCasesBySpecimenDate',\n",
       "  '695'),\n",
       " ('2023-04-18',\n",
       "  'E92000001',\n",
       "  'nation',\n",
       "  'changeInNewCasesBySpecimenDate',\n",
       "  '169'),\n",
       " ('2023-04-17',\n",
       "  'E92000001',\n",
       "  'nation',\n",
       "  'changeInNewCasesBySpecimenDate',\n",
       "  '135')]"
      ]
     },
     "execution_count": 15,
     "metadata": {},
     "output_type": "execute_result"
    }
   ],
   "source": [
    "sql = 'select date, areaCode, areaType, metricCode, metricValue from Metrics limit 10'\n",
    "c.execute(sql)\n",
    "conn.commit()\n",
    "c.fetchall()"
   ]
  },
  {
   "cell_type": "code",
   "execution_count": 3,
   "id": "6ceb8172",
   "metadata": {},
   "outputs": [
    {
     "name": "stdout",
     "output_type": "stream",
     "text": [
      "['areaCode', 'areaName', 'areaType']\n"
     ]
    }
   ],
   "source": [
    "tableName = 'Areas'\n",
    "c.execute(f\"PRAGMA table_info({tableName})\")\n",
    "columns = [col[1] for col in c.fetchall()]\n",
    "print(columns)"
   ]
  },
  {
   "cell_type": "code",
   "execution_count": 12,
   "id": "f1e7100b",
   "metadata": {},
   "outputs": [
    {
     "data": {
      "text/plain": [
       "[('E92000001', 'England', 'nation', 1),\n",
       " ('N92000002', 'Northern Ireland', 'nation', 2),\n",
       " ('S92000003', 'Scotland', 'nation', 3),\n",
       " ('K02000001', 'United Kingdom', 'nation', 4),\n",
       " ('W92000004', 'Wales', 'nation', 5),\n",
       " ('E12000004', 'East Midlands', 'region', 6),\n",
       " ('E12000006', 'East of England', 'region', 7),\n",
       " ('E12000007', 'London', 'region', 8),\n",
       " ('E12000001', 'North East', 'region', 9),\n",
       " ('E12000002', 'North West', 'region', 10)]"
      ]
     },
     "execution_count": 12,
     "metadata": {},
     "output_type": "execute_result"
    }
   ],
   "source": [
    "sql = 'select * from Areas limit 10'\n",
    "c.execute(sql)\n",
    "conn.commit()\n",
    "c.fetchall()"
   ]
  },
  {
   "cell_type": "code",
   "execution_count": 42,
   "id": "c8ca7efe",
   "metadata": {},
   "outputs": [
    {
     "name": "stdout",
     "output_type": "stream",
     "text": [
      "areaCode TEXT\n",
      "areaName TEXT\n",
      "areaType TEXT\n"
     ]
    }
   ],
   "source": [
    "# Execute the PRAGMA statement to get the data types and lengths of all fields in the table\n",
    "c.execute('PRAGMA table_info(Areas)')\n",
    "\n",
    "# Fetch all rows of the result set\n",
    "rows = c.fetchall()\n",
    "\n",
    "# Loop through each row and print the data type and length of the field\n",
    "for row in rows:\n",
    "    print(row[1], row[2])"
   ]
  },
  {
   "cell_type": "code",
   "execution_count": 13,
   "id": "6380f49a",
   "metadata": {
    "scrolled": true
   },
   "outputs": [
    {
     "data": {
      "text/plain": [
       "[('Cases',\n",
       "  None,\n",
       "  '2022-09-08',\n",
       "  'changeInNewCasesBySpecimenDate',\n",
       "  'Change in new cases by specimen date',\n",
       "  'event date'),\n",
       " ('Cases',\n",
       "  None,\n",
       "  '2022-09-08',\n",
       "  'cumCasesByPublishDate',\n",
       "  'Cumulative cases by publish date',\n",
       "  'cumulative,reporting date'),\n",
       " ('Cases',\n",
       "  None,\n",
       "  '2022-09-08',\n",
       "  'cumCasesByPublishDateRate',\n",
       "  'Cumulative cases by publish date rate',\n",
       "  'cumulative,incidence rate,reporting date'),\n",
       " ('Cases',\n",
       "  None,\n",
       "  '2022-09-08',\n",
       "  'cumCasesBySpecimenDate',\n",
       "  'Cumulative cases by specimen date',\n",
       "  'cumulative,event date'),\n",
       " ('Cases',\n",
       "  None,\n",
       "  '2022-09-08',\n",
       "  'cumCasesBySpecimenDateRate',\n",
       "  'Cumulative cases by specimen date rate',\n",
       "  'cumulative,event date,incidence rate'),\n",
       " ('Cases',\n",
       "  None,\n",
       "  '2022-09-08',\n",
       "  'cumCasesLFDConfirmedPCRBySpecimenDate',\n",
       "  'Cumulative cases LFD confirmed by PCR by specimen date',\n",
       "  'cumulative,event date'),\n",
       " ('Cases',\n",
       "  None,\n",
       "  '2022-09-08',\n",
       "  'cumCasesLFDOnlyBySpecimenDate',\n",
       "  'Cumulative cases LFD-only by specimen date',\n",
       "  'cumulative,event date'),\n",
       " ('Cases',\n",
       "  None,\n",
       "  '2022-09-08',\n",
       "  'cumCasesPCROnlyBySpecimenDate',\n",
       "  'Cumulative cases PCR only by specimen date',\n",
       "  'cumulative,event date'),\n",
       " ('Cases',\n",
       "  None,\n",
       "  '2022-09-08',\n",
       "  'cumCasesPillarOneBySpecimenDate',\n",
       "  'Cumulative cases from pillar one tests by specimen date',\n",
       "  'cumulative,event date'),\n",
       " ('Cases',\n",
       "  None,\n",
       "  '2022-09-08',\n",
       "  'cumCasesPillarTwoBySpecimenDate',\n",
       "  'Cumulative cases from pillar two tests by specimen date',\n",
       "  'cumulative,event date')]"
      ]
     },
     "execution_count": 13,
     "metadata": {},
     "output_type": "execute_result"
    }
   ],
   "source": [
    "sql = 'select * from MetricDetails limit 10'\n",
    "c.execute(sql)\n",
    "conn.commit()\n",
    "c.fetchall()"
   ]
  },
  {
   "cell_type": "code",
   "execution_count": 14,
   "id": "d9205c1e",
   "metadata": {},
   "outputs": [
    {
     "name": "stdout",
     "output_type": "stream",
     "text": [
      "category TEXT\n",
      "deprecated TEXT\n",
      "doc_last_modified TEXT\n",
      "metric TEXT\n",
      "metric_name TEXT\n",
      "tags TEXT\n"
     ]
    }
   ],
   "source": [
    "# Execute the PRAGMA statement to get the data types and lengths of all fields in the table\n",
    "c.execute('PRAGMA table_info(MetricDetails)')\n",
    "\n",
    "# Fetch all rows of the result set\n",
    "rows = c.fetchall()\n",
    "\n",
    "# Loop through each row and print the data type and length of the field\n",
    "for row in rows:\n",
    "    print(row[1], row[2])"
   ]
  },
  {
   "cell_type": "code",
   "execution_count": 4,
   "id": "838c3bdd",
   "metadata": {},
   "outputs": [
    {
     "name": "stdout",
     "output_type": "stream",
     "text": [
      "body TEXT\n",
      "date TEXT\n",
      "expire TEXT\n",
      "has_expired INTEGER\n",
      "id TEXT\n",
      "launch TEXT\n"
     ]
    }
   ],
   "source": [
    "# Execute the PRAGMA statement to get the data types and lengths of all fields in the table\n",
    "c.execute('PRAGMA table_info(Announcements)')\n",
    "\n",
    "# Fetch all rows of the result set\n",
    "rows = c.fetchall()\n",
    "\n",
    "# Loop through each row and print the data type and length of the field\n",
    "for row in rows:\n",
    "    print(row[1], row[2])"
   ]
  },
  {
   "cell_type": "code",
   "execution_count": 20,
   "id": "e8977eba",
   "metadata": {},
   "outputs": [
    {
     "data": {
      "text/plain": [
       "[('E92000001', 'England', 'nation', 1),\n",
       " ('N92000002', 'Northern Ireland', 'nation', 2),\n",
       " ('S92000003', 'Scotland', 'nation', 3),\n",
       " ('K02000001', 'United Kingdom', 'nation', 4),\n",
       " ('W92000004', 'Wales', 'nation', 5)]"
      ]
     },
     "execution_count": 20,
     "metadata": {},
     "output_type": "execute_result"
    }
   ],
   "source": [
    "sql = 'select * from Areas where areaType = \"nation\" limit 10'\n",
    "c.execute(sql)\n",
    "conn.commit()\n",
    "c.fetchall()"
   ]
  }
 ],
 "metadata": {
  "kernelspec": {
   "display_name": "Python 3 (ipykernel)",
   "language": "python",
   "name": "python3"
  },
  "language_info": {
   "codemirror_mode": {
    "name": "ipython",
    "version": 3
   },
   "file_extension": ".py",
   "mimetype": "text/x-python",
   "name": "python",
   "nbconvert_exporter": "python",
   "pygments_lexer": "ipython3",
   "version": "3.9.13"
  }
 },
 "nbformat": 4,
 "nbformat_minor": 5
}
